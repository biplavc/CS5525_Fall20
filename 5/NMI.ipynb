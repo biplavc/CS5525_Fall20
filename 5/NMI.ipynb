{
 "cells": [
  {
   "cell_type": "code",
   "execution_count": 1,
   "metadata": {},
   "outputs": [],
   "source": [
    "import numpy as np \n",
    "from sklearn.metrics.cluster import normalized_mutual_info_score"
   ]
  },
  {
   "cell_type": "markdown",
   "metadata": {},
   "source": [
    "classifier 1 \n",
    "\n",
    "    1:  2: \n",
    "\n",
    "1 : 40   20 \n",
    "\n",
    "2 : 10   30\n",
    "\n"
   ]
  },
  {
   "cell_type": "code",
   "execution_count": 2,
   "metadata": {},
   "outputs": [
    {
     "output_type": "stream",
     "name": "stdout",
     "text": [
      "0.12636011904861089\n"
     ]
    }
   ],
   "source": [
    "## classifier 1\n",
    "\n",
    "## i_j means i cluster has j class\n",
    "\n",
    "y_true_1_1 = np.ones((40))\n",
    "y_pred_1_1 = np.ones((40))\n",
    "\n",
    "y_true_1_2 = np.zeros((20))\n",
    "y_pred_1_2 = np.ones((20))\n",
    "\n",
    "y_true_2_1 = np.ones((10))\n",
    "y_pred_2_1 = np.zeros((10))\n",
    "\n",
    "y_true_2_2 = np.zeros((30))\n",
    "y_pred_2_2 = np.zeros((30))\n",
    "\n",
    "\n",
    "args_true = (y_true_1_1, y_true_1_2, y_true_2_1, y_true_2_2)\n",
    "args_pred = (y_pred_1_1, y_pred_1_2, y_pred_2_1, y_pred_2_2)\n",
    "\n",
    "y_true = np.concatenate(args_true)\n",
    "y_pred = np.concatenate(args_pred)\n",
    "\n",
    "print(normalized_mutual_info_score(y_true, y_pred))"
   ]
  },
  {
   "cell_type": "markdown",
   "metadata": {},
   "source": [
    "\n",
    "classifer 2\n",
    "\n",
    "    1:  2:\n",
    "\n",
    "1 : 35   15\n",
    "\n",
    "2 : 5    5\n",
    " \n",
    "3 : 10   30"
   ]
  },
  {
   "cell_type": "code",
   "execution_count": 3,
   "metadata": {},
   "outputs": [
    {
     "output_type": "stream",
     "name": "stdout",
     "text": [
      "0.33727131558422363\n"
     ]
    }
   ],
   "source": [
    "## classifier 2\n",
    "\n",
    "## i_j means 1 cluster has j class\n",
    "\n",
    "\n",
    "y_true_1_1 = np.ones((35))\n",
    "y_pred_1_1 = np.ones((35))\n",
    "\n",
    "y_true_1_2 = np.zeros((15))\n",
    "y_pred_1_2 = np.ones((15))\n",
    "\n",
    "y_true_2_1 = np.ones((5))\n",
    "y_pred_2_1 = np.zeros((5))\n",
    "\n",
    "y_true_2_2 = np.zeros((5))\n",
    "y_pred_2_2 = np.zeros((5))\n",
    "\n",
    "y_true_3_1 = np.ones((10))\n",
    "y_pred_3_1 = np.ones((10))*(-1)\n",
    "\n",
    "y_true_3_2 = np.zeros((30))\n",
    "y_pred_3_2 = np.ones((30))*(-1)\n",
    "\n",
    "args_true = (y_true_1_1, y_true_1_2, y_true_2_1, y_true_2_2, y_true_3_2)\n",
    "args_pred = (y_pred_1_1, y_pred_1_2, y_pred_2_1, y_pred_2_2, y_pred_3_2)\n",
    "\n",
    "y_true = np.concatenate(args_true)\n",
    "y_pred = np.concatenate(args_pred)\n",
    "\n",
    "print(normalized_mutual_info_score(y_true, y_pred))"
   ]
  },
  {
   "cell_type": "code",
   "execution_count": null,
   "metadata": {},
   "outputs": [],
   "source": []
  },
  {
   "cell_type": "code",
   "execution_count": 4,
   "metadata": {},
   "outputs": [
    {
     "output_type": "stream",
     "name": "stdout",
     "text": [
      "1.0\n"
     ]
    }
   ],
   "source": [
    "## pure classifier\n",
    "y_true_2_2 = np.zeros((5))\n",
    "y_pred_2_2 = np.zeros((5))\n",
    "\n",
    "print(normalized_mutual_info_score(y_true_2_2, y_pred_2_2))"
   ]
  }
 ],
 "metadata": {
  "kernelspec": {
   "display_name": "Python 3.7.4 64-bit ('base': conda)",
   "language": "python",
   "name": "python37464bitbasecondaaf551314fd8143cebe126ca48fabb2e9"
  },
  "language_info": {
   "codemirror_mode": {
    "name": "ipython",
    "version": 3
   },
   "file_extension": ".py",
   "mimetype": "text/x-python",
   "name": "python",
   "nbconvert_exporter": "python",
   "pygments_lexer": "ipython3",
   "version": "3.7.4-final"
  }
 },
 "nbformat": 4,
 "nbformat_minor": 2
}