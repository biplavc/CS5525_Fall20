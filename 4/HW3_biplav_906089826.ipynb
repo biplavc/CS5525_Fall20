{
 "metadata": {
  "language_info": {
   "codemirror_mode": {
    "name": "ipython",
    "version": 3
   },
   "file_extension": ".py",
   "mimetype": "text/x-python",
   "name": "python",
   "nbconvert_exporter": "python",
   "pygments_lexer": "ipython3",
   "version": "3.7.4-final"
  },
  "orig_nbformat": 2,
  "kernelspec": {
   "name": "python37464bitbasecondaaf551314fd8143cebe126ca48fabb2e9",
   "display_name": "Python 3.7.4 64-bit ('base': conda)"
  }
 },
 "nbformat": 4,
 "nbformat_minor": 2,
 "cells": [
  {
   "cell_type": "code",
   "execution_count": 8,
   "metadata": {},
   "outputs": [
    {
     "output_type": "stream",
     "name": "stdout",
     "text": [
      "dict_keys(['data', 'filenames', 'target_names', 'target', 'DESCR'])\n"
     ]
    }
   ],
   "source": [
    "import numpy as np \n",
    "import sklearn\n",
    "from sklearn.datasets import fetch_20newsgroups\n",
    "from sklearn.feature_extraction.text import TfidfTransformer\n",
    "from sklearn.feature_extraction.text import CountVectorizer\n",
    "from sklearn.pipeline import Pipeline\n",
    "from sklearn.naive_bayes import MultinomialNB\n",
    "from sklearn.model_selection import train_test_split\n",
    "\n",
    "twenty_train = fetch_20newsgroups(subset='train', shuffle=True)\n",
    "twenty_test = fetch_20newsgroups(subset='test', shuffle=True)\n",
    "\n",
    "print(twenty_train.keys())\n"
   ]
  },
  {
   "source": [
    "Using the guide given in https://towardsdatascience.com/machine-learning-nlp-text-classification-using-scikit-learn-python-and-nltk-c52b92a7c73a\n",
    "The data is in key 'data' with the target labels in key 'target'\n",
    "\n",
    "As sklearn already provides the data in the form of train and test data, I tried combining them into one but was unable to do so. So I will split the train data in an 80-20 ratio and then finally run the classifier on the unused default test data."
   ],
   "cell_type": "markdown",
   "metadata": {}
  },
  {
   "cell_type": "code",
   "execution_count": 9,
   "metadata": {},
   "outputs": [],
   "source": [
    "X_train, X_test, y_train, y_test = train_test_split(twenty_train['data'], twenty_train['target'], test_size=0.2, random_state=42)"
   ]
  },
  {
   "source": [
    "Testing out the CountVectorizer and TfidfTransformer"
   ],
   "cell_type": "markdown",
   "metadata": {}
  },
  {
   "cell_type": "code",
   "execution_count": 10,
   "metadata": {},
   "outputs": [
    {
     "output_type": "stream",
     "name": "stdout",
     "text": [
      "(11314, 130107)\n",
      "(11314, 130107)\n"
     ]
    }
   ],
   "source": [
    "# print(twenty_train.target_names) #prints all the categories\n",
    "# print(\"\\n\".join(twenty_train.data[0].split(\"\\n\"))) \n",
    "\n",
    "count_vect = CountVectorizer()\n",
    "X_train_counts = count_vect.fit_transform(twenty_train.data)\n",
    "print(X_train_counts.shape)\n",
    "\n",
    "tfidf_transformer = TfidfTransformer()\n",
    "X_train_tfidf = tfidf_transformer.fit_transform(X_train_counts)\n",
    "print(X_train_tfidf.shape)"
   ]
  },
  {
   "source": [
    "Using pipelines to remove stopwords, use the tf-idf vectorizer and train using Naive Bayes as the classifier for the training data. We'll use the 80-20 splitted data here"
   ],
   "cell_type": "markdown",
   "metadata": {}
  },
  {
   "cell_type": "code",
   "execution_count": 11,
   "metadata": {},
   "outputs": [],
   "source": [
    "text_clf = Pipeline([('vect', CountVectorizer(stop_words='english')),('tfidf', TfidfTransformer()), ('clf', MultinomialNB())])\n",
    "text_clf = text_clf.fit(X_train, y_train)\n"
   ]
  },
  {
   "source": [
    "Use the test data to measure accuracy"
   ],
   "cell_type": "markdown",
   "metadata": {}
  },
  {
   "cell_type": "code",
   "execution_count": 12,
   "metadata": {},
   "outputs": [
    {
     "output_type": "stream",
     "name": "stdout",
     "text": [
      " accuracy is 0.8842244807777286 and f1 score is 0.8733314452741745\n"
     ]
    }
   ],
   "source": [
    "predicted = text_clf.predict(X_test)\n",
    "accuracy  = np.mean(predicted == y_test)\n",
    "f1_score  = sklearn.metrics.f1_score(y_test, predicted, average='macro')\n",
    "print(f\" accuracy is {accuracy} and f1 score is {f1_score}\")"
   ]
  },
  {
   "source": [
    "We will try to improve some hyperparameter using gridsearch here"
   ],
   "cell_type": "markdown",
   "metadata": {}
  },
  {
   "cell_type": "code",
   "execution_count": 13,
   "metadata": {},
   "outputs": [
    {
     "output_type": "stream",
     "name": "stdout",
     "text": [
      "best performance was 0.8932714617169374 with parameters {'clf__alpha': 0.01, 'tfidf__use_idf': True, 'vect__ngram_range': (1, 1)}\n"
     ]
    }
   ],
   "source": [
    "from sklearn.model_selection import GridSearchCV\n",
    "parameters = {'vect__ngram_range': [(1, 1), (1, 2)], 'tfidf__use_idf': (True, False), 'clf__alpha': (1e-2, 1e-3)}\n",
    "\n",
    "gs_clf = GridSearchCV(text_clf, parameters, n_jobs=-1)\n",
    "gs_clf = gs_clf.fit(X_train, y_train)\n",
    "\n",
    "gs_clf.best_score_\n",
    "gs_clf.best_params_\n",
    "\n",
    "print(f\"best performance was {gs_clf.best_score_} with parameters {gs_clf.best_params_}\")"
   ]
  },
  {
   "source": [],
   "cell_type": "markdown",
   "metadata": {}
  },
  {
   "source": [
    "The performance improved marginally from 88% to 89%. The result shows that use of tf-idf is beneficial. As there was a section of the data set as test data that we haven't used until now, let's test our classifier in that unseen data.\n"
   ],
   "cell_type": "markdown",
   "metadata": {}
  },
  {
   "cell_type": "code",
   "execution_count": 14,
   "metadata": {},
   "outputs": [
    {
     "output_type": "stream",
     "name": "stdout",
     "text": [
      " accuracy is 0.814200398142004 and f1 score is 0.796604882220717\n"
     ]
    }
   ],
   "source": [
    "X_train, X_test, y_train, y_test = train_test_split(twenty_test['data'], twenty_test['target'], test_size=0.2, random_state=42)\n",
    "predicted = text_clf.predict(X_test)\n",
    "accuracy  = np.mean(predicted == y_test)\n",
    "f1_score  = sklearn.metrics.f1_score(y_test, predicted, average='macro')\n",
    "print(f\" accuracy is {accuracy} and f1 score is {f1_score}\")"
   ]
  }
 ]
}