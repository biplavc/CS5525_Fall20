{
 "metadata": {
  "language_info": {
   "codemirror_mode": {
    "name": "ipython",
    "version": 3
   },
   "file_extension": ".py",
   "mimetype": "text/x-python",
   "name": "python",
   "nbconvert_exporter": "python",
   "pygments_lexer": "ipython3",
   "version": "3.7.4-final"
  },
  "orig_nbformat": 2,
  "kernelspec": {
   "name": "python37464bitbasecondaaf551314fd8143cebe126ca48fabb2e9",
   "display_name": "Python 3.7.4 64-bit ('base': conda)"
  }
 },
 "nbformat": 4,
 "nbformat_minor": 2,
 "cells": [
  {
   "cell_type": "code",
   "execution_count": 2,
   "metadata": {
    "tags": []
   },
   "outputs": [
    {
     "output_type": "stream",
     "name": "stdout",
     "text": "C1: ROC AUC=0.680\nC2: ROC AUC=0.920\n"
    },
    {
     "output_type": "display_data",
     "data": {
      "text/plain": "&lt;Figure size 432x288 with 1 Axes&gt;",
      "image/png": "[encoded data removed]"
     },
     "metadata": {
      "needs_background": "light"
     }
    }
   ],
   "source": [
    "# roc curve and auc\n",
    "from sklearn.metrics import roc_curve\n",
    "from sklearn.metrics import roc_auc_score\n",
    "from matplotlib import pyplot\n",
    "\n",
    "lr_probs_1 = [.10, .15, .20, .30, .31, .40, .62, .77, .81, .95] # probability of positive class in classifier C1\n",
    "\n",
    "lr_probs_2 = [.25, .49, .05, .35, .66, .60, .70, .65, .55, .99] # probability of positive class in classifier C1\n",
    "\n",
    "testy =     [0,    1,  0,  0,   1,  0,   1,   1,   0,   1] # actual labels\n",
    "\n",
    "lr_auc_1 = roc_auc_score(testy, lr_probs_1) # calculate area in classifier C1\n",
    "lr_auc_2 = roc_auc_score(testy, lr_probs_2) # calculate area in classifier C2\n",
    "\n",
    "# summarize scores\n",
    "print('C1: ROC AUC=%.3f' % (lr_auc_1))\n",
    "print('C2: ROC AUC=%.3f' % (lr_auc_2))\n",
    "# calculate roc curves\n",
    "lr_fpr_1, lr_tpr_1, _ = roc_curve(testy, lr_probs_1)\n",
    "lr_fpr_2, lr_tpr_2, _ = roc_curve(testy, lr_probs_2)\n",
    "\n",
    "# plot the roc curve for the model\n",
    "pyplot.plot(lr_fpr_1, lr_tpr_1, marker='.', label='C1')\n",
    "pyplot.plot(lr_fpr_2, lr_tpr_2, marker='_', label='C2')\n",
    "\n",
    "# axis labels\n",
    "pyplot.xlabel('False Positive Rate')\n",
    "pyplot.ylabel('True Positive Rate')\n",
    "# show the legend\n",
    "pyplot.legend()\n",
    "# show the plot\n",
    "pyplot.show()"
   ]
  },
  {
   "cell_type": "code",
   "execution_count": null,
   "metadata": {},
   "outputs": [],
   "source": []
  }
 ]
}